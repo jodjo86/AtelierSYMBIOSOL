{
 "cells": [
  {
   "cell_type": "markdown",
   "id": "30172e0f",
   "metadata": {},
   "source": [
    "# Atelier 2"
   ]
  },
  {
   "cell_type": "markdown",
   "id": "d81a1c3d",
   "metadata": {},
   "source": [
    "Cet atelier de bioinformatique propose une exploration approfondie de l’analyse fonctionnelle des communautés microbiennes des sols. Il couvre l’annotation des gènes et la prédiction des fonctions microbiennes, en introduisant les bases de l’analyse métagénomique, du prétraitement des séquences à l’assemblage, jusqu’à l’annotation et à la comparaison des génomes microbiens reconstitués (MAGs). Les participants découvriront également des méthodes statistiques avancées et des approches d’apprentissage automatique appliquées aux données omiques, telles que l’analyse en composantes principales, les forêts aléatoires, des approches multi-omics et longitudinales."
   ]
  },
  {
   "cell_type": "code",
   "execution_count": null,
   "id": "6dea4b4e",
   "metadata": {},
   "outputs": [],
   "source": [
    "!git clone https://github.com/thomasbio/AtelierSYMBIOSOL.git atelier"
   ]
  },
  {
   "cell_type": "code",
   "execution_count": null,
   "id": "47c5cef9",
   "metadata": {},
   "outputs": [],
   "source": [
    "%cd files"
   ]
  },
  {
   "cell_type": "code",
   "execution_count": null,
   "id": "e9adb9dd",
   "metadata": {},
   "outputs": [],
   "source": [
    "%run setup_qiime2"
   ]
  },
  {
   "cell_type": "markdown",
   "id": "a7be40f9",
   "metadata": {},
   "source": []
  }
 ],
 "metadata": {
  "kernelspec": {
   "display_name": "Python 3 (ipykernel)",
   "language": "python",
   "name": "python3"
  },
  "language_info": {
   "codemirror_mode": {
    "name": "ipython",
    "version": 3
   },
   "file_extension": ".py",
   "mimetype": "text/x-python",
   "name": "python",
   "nbconvert_exporter": "python",
   "pygments_lexer": "ipython3",
   "version": "3.11.5"
  }
 },
 "nbformat": 4,
 "nbformat_minor": 5
}
