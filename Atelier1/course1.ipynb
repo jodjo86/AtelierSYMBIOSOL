{
 "cells": [
  {
   "cell_type": "markdown",
   "id": "1ec12f2a",
   "metadata": {},
   "source": [
    "# Analyse de données d'amplicons 16S avec QIIME 2\n",
    "\n",
    "Ce notebook a pour but de réaliser une analyse complète de données de séquençage d'amplicons 16S en utilisant l'écosystème QIIME 2. Les étapes incluent le calcul de la diversité alpha, l'analyse de la diversité bêta, la composition taxonomique et une analyse de redondance basée sur la distance (db-RDA).\n"
   ]
  },
  {
   "cell_type": "markdown",
   "id": "f3020283",
   "metadata": {},
   "source": [
    "## 1. Configuration de l'environnement\n",
    "\n",
    "Cette section installe QIIME 2 et les dépendances nécessaires. Exécutez ces cellules si vous utilisez Google Colab.\n"
   ]
  },
  {
   "cell_type": "code",
   "execution_count": null,
   "id": "aaa2d5cc",
   "metadata": {},
   "outputs": [],
   "source": [
    "!git clone https://github.com/thomasbio/AtelierSYMBIOSOL.git Atelier1"
   ]
  },
  {
   "cell_type": "code",
   "execution_count": null,
   "id": "70e0d6c7",
   "metadata": {},
   "outputs": [],
   "source": [
    "%cd Atelier1/Atelier1/"
   ]
  },
  {
   "cell_type": "code",
   "execution_count": null,
   "id": "9dcc3313",
   "metadata": {},
   "outputs": [],
   "source": [
    "# Exécutez ce script pour installer QIIME 2\n",
    "%run setup_qiime2\n",
    "\n",
    "# Installation des plugins et autres dépendances\n",
    "!pip install scikit-bio\n",
    "!pip install seaborn\n",
    "!qiime plugins install --url https://github.com/qiime2/q2-longitudinal/archive/master.zip\n",
    "!qiime plugins install --url https://github.com/qiime2/q2-breakaway/archive/master.zip\n",
    "!qiime plugins install --url https://github.com/qiime2/q2-emperor/archive/master.zip\n",
    "!qiime plugins install --url https://github.com/qiime2/q2-feature-classifier/archive/master.zip\n",
    "!qiime plugins install --url https://github.com/qiime2/q2-taxa/archive/master.zip\n",
    "!qiime plugins install --url https://github.com/qiime2/q2-diversity/archive/master.zip\n",
    "!qiime plugins install --url https://github.com/qiime2/q2-gneiss/archive/master.zip\n",
    "!qiime plugins install --url https://github.com/qiime2/q2-composition/archive/master.zip\n",
    "!qiime plugins install --url https://github.com/qiime2/q2-sample-classifier/archive/master.zip\n",
    "!qiime plugins install --url https://github.com/qiime2/q2-deicode/archive/master.zip\n",
    "!qiime plugins install --url https://github.com/qiime2/q2-songbird/archive/master.zip\n",
    "!qiime plugins install --url https://github.com/qiime2/q2-longitudinal/archive/master.zip\n"
   ]
  },
  {
   "cell_type": "markdown",
   "id": "4a4e667f",
   "metadata": {},
   "source": [
    "## 2. Importation et description des données\n",
    "\n",
    "Dans cette section, nous allons charger les fichiers de données et de métadonnées en tant qu'artefacts QIIME 2.\n"
   ]
  },
  {
   "cell_type": "code",
   "execution_count": null,
   "id": "01fe2755",
   "metadata": {},
   "outputs": [],
   "source": [
    "import qiime2 as q2\n",
    "from qiime2.plugins import demux, metadata, feature_table, diversity, emperor\n",
    "\n",
    "# Charger les métadonnées\n",
    "metadata_path = 'metadata.tsv'\n",
    "metadata = q2.Metadata.load(metadata_path)\n",
    "\n",
    "# Charger la table de contingence\n",
    "table_path = 'table-emp.qza'\n",
    "table = q2.Artifact.load(table_path)\n",
    "\n",
    "# Charger les séquences représentatives\n",
    "rep_seqs_path = 'rep-seqs.qza'\n",
    "rep_seqs = q2.Artifact.load(rep_seqs_path)\n",
    "\n",
    "# Charger la taxonomie\n",
    "taxo_path = 'taxo-silva128.qza'\n",
    "taxonomy = q2.Artifact.load(taxo_path)\n",
    "\n",
    "# Afficher un résumé de la table de contingence\n",
    "!qiime feature-table summarize --i-table {table_path} --o-visualization table.qzv --m-sample-metadata-file {metadata_path}\n",
    "!qiime metadata tabulate --m-input-file table.qzv --o-visualization table.qzv\n"
   ]
  },
  {
   "cell_type": "markdown",
   "id": "6d2cd3a8",
   "metadata": {},
   "source": [
    "## 3. Analyse de la diversité Alpha (indice de Shannon)\n",
    "\n",
    "Nous allons maintenant calculer l'indice de diversité de Shannon pour chaque échantillon.\n"
   ]
  },
  {
   "cell_type": "code",
   "execution_count": null,
   "id": "8627e7e4",
   "metadata": {},
   "outputs": [],
   "source": [
    "# Calcul de la diversité alpha (Shannon)\n",
    "!qiime diversity alpha --i-table {table_path} --p-metric shannon --o-alpha-diversity shannon.qza\n",
    "\n",
    "# Visualisation des résultats\n",
    "!qiime diversity alpha-group-significance --i-alpha-diversity shannon.qza --m-metadata-file {metadata_path} --o-visualization shannon_significance.qzv\n"
   ]
  },
  {
   "cell_type": "markdown",
   "id": "5dde529a",
   "metadata": {},
   "source": [
    "## 4. Analyse de la diversité Bêta (PCoA)\n",
    "\n",
    "Cette section est dédiée à l'analyse de la diversité bêta via une Analyse en Coordonnées Principales (PCoA) sur une matrice de distance de Bray-Curtis.\n"
   ]
  },
  {
   "cell_type": "code",
   "execution_count": null,
   "id": "56a7e460",
   "metadata": {},
   "outputs": [],
   "source": [
    "# Calcul de la matrice de distance (Bray-Curtis)\n",
    "!qiime diversity beta --i-table {table_path} --p-metric braycurtis --o-distance-matrix bray_curtis_distance_matrix.qza\n",
    "\n",
    "# Analyse PCoA\n",
    "!qiime diversity pcoa --i-distance-matrix bray_curtis_distance_matrix.qza --o-pcoa pcoa_results.qza\n",
    "\n",
    "# Visualisation avec Emperor\n",
    "!qiime emperor plot --i-pcoa pcoa_results.qza --m-metadata-file {metadata_path} --o-visualization pcoa_emperor.qzv\n"
   ]
  },
  {
   "cell_type": "markdown",
   "id": "aaa14dd9",
   "metadata": {},
   "source": [
    "## 5. Composition Taxonomique\n",
    "\n",
    "Visualisation de la composition taxonomique des échantillons.\n"
   ]
  },
  {
   "cell_type": "code",
   "execution_count": null,
   "id": "274f0286",
   "metadata": {},
   "outputs": [],
   "source": [
    "# Création du barplot taxonomique\n",
    "!qiime taxa barplot --i-table {table_path} --i-taxonomy {taxo_path} --m-metadata-file {metadata_path} --o-visualization taxa_barplot.qzv\n"
   ]
  },
  {
   "cell_type": "markdown",
   "id": "1fc45b34",
   "metadata": {},
   "source": [
    "### Heatmap de la composition taxonomique (par classe)\n"
   ]
  },
  {
   "cell_type": "code",
   "execution_count": null,
   "id": "4e242a99",
   "metadata": {},
   "outputs": [],
   "source": [
    "# Agréger la table au niveau de la classe\n",
    "!qiime taxa collapse --i-table {table_path} --i-taxonomy {taxo_path} --p-level 3 --o-collapsed-table table-l3.qza\n",
    "\n",
    "# Créer le heatmap\n",
    "!qiime feature-table heatmap --i-table table-l3.qza --m-metadata-file {metadata_path} --m-metadata-column body-site --p-normalize --o-visualization heatmap-l3.qzv\n"
   ]
  },
  {
   "cell_type": "markdown",
   "id": "15d45d2f",
   "metadata": {},
   "source": [
    "## 6. Analyse de Redondance basée sur la Distance (db-RDA) avec Python\n",
    "\n",
    "Cette analyse permet d'évaluer la relation entre la composition des communautés microbiennes et les variables environnementales numériques. Nous allons exporter la matrice de distance générée par QIIME 2 et utiliser les packages `scikit-bio`, `pandas` et `seaborn` pour réaliser et visualiser l'analyse.\n"
   ]
  },
  {
   "cell_type": "code",
   "execution_count": null,
   "id": "ca789065",
   "metadata": {},
   "outputs": [],
   "source": [
    "import pandas as pd\n",
    "import skbio\n",
    "from skbio.stats.ordination import rda, pcoa\n",
    "import seaborn as sns\n",
    "import matplotlib.pyplot as plt\n",
    "from qiime2 import Artifact\n",
    "\n",
    "# Charger la matrice de distance Bray-Curtis et la visualiser en tant qu'objet skbio.DistanceMatrix\n",
    "bray_curtis_dm = Artifact.load('bray_curtis_distance_matrix.qza').view(skbio.DistanceMatrix)\n",
    "\n",
    "# Charger les métadonnées en tant que DataFrame pandas\n",
    "metadata_df = pd.read_csv('metadata.tsv', sep='\\t', index_col=0)\n",
    "\n",
    "# Aligner la matrice de distance et les métadonnées sur les mêmes échantillons\n",
    "sample_ids = bray_curtis_dm.ids\n",
    "metadata_df = metadata_df.loc[sample_ids]\n",
    "\n",
    "# Sélectionner les variables spécifiques pour l'analyse\n",
    "variables_for_rda = ['pH', 'Sand', 'Carbon', 'AMWD']\n",
    "# Vérifier si les colonnes existent avant de les sélectionner\n",
    "existing_vars = [var for var in variables_for_rda if var in metadata_df.columns]\n",
    "\n",
    "if not existing_vars:\n",
    "    print(\"Avertissement : Aucune des colonnes spécifiées (pH, Sand, Carbon, AMWD) n'a été trouvée dans les métadonnées.\")\n",
    "else:\n",
    "    if len(existing_vars) != len(variables_for_rda):\n",
    "        missing_vars = set(variables_for_rda) - set(existing_vars)\n",
    "        print(f\"Avertissement : Les colonnes suivantes sont manquantes dans les métadonnées et ne seront pas utilisées : {list(missing_vars)}\")\n",
    "    \n",
    "    env_vars = metadata_df[existing_vars]\n",
    "\n",
    "    # 1. Effectuer une PCoA sur la matrice de distance\n",
    "    pcoa_results = pcoa(bray_curtis_dm)\n",
    "    \n",
    "    # 2. Effectuer la RDA sur les résultats de la PCoA avec les variables sélectionnées\n",
    "    db_rda_results = rda(y=pcoa_results.samples, x=env_vars, scale_y=False)\n",
    "    \n",
    "    # Créer un DataFrame pour le plotting des échantillons\n",
    "    plot_df = db_rda_results.samples.iloc[:, :2]\n",
    "    plot_df.columns = ['PC1', 'PC2']\n",
    "    \n",
    "    # Ajouter les informations de métadonnées pour la coloration\n",
    "    # Remplacez 'body-site' par la colonne que vous souhaitez utiliser pour la couleur\n",
    "    plot_df = plot_df.join(metadata_df['body-site'])\n",
    "\n",
    "    # 3. Visualiser les résultats (échantillons)\n",
    "    plt.figure(figsize=(12, 10))\n",
    "    sns.scatterplot(data=plot_df, x='PC1', y='PC2', hue='body-site')\n",
    "    \n",
    "    # 4. Ajouter les flèches des variables environnementales (vecteurs)\n",
    "    arrow_data = db_rda_results.features.iloc[:, :2]\n",
    "    arrow_data.columns = ['PC1', 'PC2']\n",
    "    \n",
    "    # Facteur d'échelle pour une meilleure lisibilité des flèches\n",
    "    arrow_scale = 2.0 \n",
    "    \n",
    "    for var_name, row in arrow_data.iterrows():\n",
    "        plt.arrow(0, 0, row['PC1'] * arrow_scale, row['PC2'] * arrow_scale, \n",
    "                  head_width=0.03, head_length=0.05, fc='red', ec='red', lw=1.5)\n",
    "        plt.text(row['PC1'] * arrow_scale * 1.15, row['PC2'] * arrow_scale * 1.15, \n",
    "                 var_name, color='red', ha='center', va='center', fontsize=12)\n",
    "\n",
    "    plt.title('db-RDA des communautés microbiennes')\n",
    "    plt.xlabel(f'PC1 ({db_rda_results.proportion_explained[0]:.2%})')\n",
    "    plt.ylabel(f'PC2 ({db_rda_results.proportion_explained[1]:.2%})')\n",
    "    plt.legend(title='body-site')\n",
    "    plt.grid(True)\n",
    "    plt.axhline(0, color='grey', linestyle='--')\n",
    "    plt.axvline(0, color='grey', linestyle='--')\n",
    "    plt.show()\n"
   ]
  }
 ],
 "metadata": {
  "language_info": {
   "name": "python"
  }
 },
 "nbformat": 4,
 "nbformat_minor": 5
}
