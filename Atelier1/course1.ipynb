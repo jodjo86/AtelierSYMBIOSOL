{
 "cells": [
  {
   "cell_type": "markdown",
   "id": "1ec12f2a",
   "metadata": {},
   "source": [
    "# Analyse de données d'amplicons 16S avec QIIME 2\n",
    "\n",
    "Ce notebook a pour but de réaliser une analyse complète de données de séquençage d'amplicons 16S en utilisant l'écosystème QIIME 2. Les étapes incluent le calcul de la diversité alpha, l'analyse de la diversité bêta, la composition taxonomique et une analyse de redondance basée sur la distance (db-RDA).\n"
   ]
  },
  {
   "cell_type": "markdown",
   "id": "f3020283",
   "metadata": {},
   "source": [
    "## 1. Configuration de l'environnement\n",
    "\n",
    "Cette section installe QIIME 2 et les dépendances nécessaires. Exécutez ces cellules si vous utilisez Google Colab.\n"
   ]
  },
  {
   "cell_type": "code",
   "execution_count": null,
   "id": "9dcc3313",
   "metadata": {},
   "outputs": [],
   "source": [
    "# Exécutez ce script pour installer QIIME 2\n",
    "%run setup_qiime2\n",
    "\n",
    "# Installation des plugins et autres dépendances\n",
    "!pip install scikit-bio\n",
    "!pip install seaborn\n",
    "!qiime plugins install --url https://github.com/qiime2/q2-longitudinal/archive/master.zip\n",
    "!qiime plugins install --url https://github.com/qiime2/q2-breakaway/archive/master.zip\n",
    "!qiime plugins install --url https://github.com/qiime2/q2-emperor/archive/master.zip\n",
    "!qiime plugins install --url https://github.com/qiime2/q2-feature-classifier/archive/master.zip\n",
    "!qiime plugins install --url https://github.com/qiime2/q2-taxa/archive/master.zip\n",
    "!qiime plugins install --url https://github.com/qiime2/q2-diversity/archive/master.zip\n",
    "!qiime plugins install --url https://github.com/qiime2/q2-gneiss/archive/master.zip\n",
    "!qiime plugins install --url https://github.com/qiime2/q2-composition/archive/master.zip\n",
    "!qiime plugins install --url https://github.com/qiime2/q2-sample-classifier/archive/master.zip\n",
    "!qiime plugins install --url https://github.com/qiime2/q2-deicode/archive/master.zip\n",
    "!qiime plugins install --url https://github.com/qiime2/q2-songbird/archive/master.zip\n",
    "!qiime plugins install --url https://github.com/qiime2/q2-longitudinal/archive/master.zip\n"
   ]
  },
  {
   "cell_type": "markdown",
   "id": "4a4e667f",
   "metadata": {},
   "source": [
    "## 2. Importation et description des données\n",
    "\n",
    "Dans cette section, nous allons charger les fichiers de données et de métadonnées en tant qu'artefacts QIIME 2.\n"
   ]
  },
  {
   "cell_type": "code",
   "execution_count": null,
   "id": "01fe2755",
   "metadata": {},
   "outputs": [],
   "source": [
    "import qiime2 as q2\n",
    "from qiime2.plugins import demux, metadata, feature_table, diversity, emperor\n",
    "\n",
    "# Charger les métadonnées\n",
    "metadata_path = 'metadata.tsv'\n",
    "metadata = q2.Metadata.load(metadata_path)\n",
    "\n",
    "# Charger la table de contingence\n",
    "table_path = 'table-emp.qza'\n",
    "table = q2.Artifact.load(table_path)\n",
    "\n",
    "# Charger les séquences représentatives\n",
    "rep_seqs_path = 'rep-seqs.qza'\n",
    "rep_seqs = q2.Artifact.load(rep_seqs_path)\n",
    "\n",
    "# Charger la taxonomie\n",
    "taxo_path = 'taxo-silva128.qza'\n",
    "taxonomy = q2.Artifact.load(taxo_path)\n",
    "\n",
    "# Afficher un résumé de la table de contingence\n",
    "!qiime feature-table summarize --i-table {table_path} --o-visualization table.qzv --m-sample-metadata-file {metadata_path}\n",
    "!qiime metadata tabulate --m-input-file table.qzv --o-visualization table.qzv\n"
   ]
  },
  {
   "cell_type": "markdown",
   "id": "6d2cd3a8",
   "metadata": {},
   "source": [
    "## 3. Analyse de la diversité Alpha (indice de Shannon)\n",
    "\n",
    "Nous allons maintenant calculer l'indice de diversité de Shannon pour chaque échantillon.\n"
   ]
  },
  {
   "cell_type": "code",
   "execution_count": null,
   "id": "8627e7e4",
   "metadata": {},
   "outputs": [],
   "source": [
    "# Calcul de la diversité alpha (Shannon)\n",
    "!qiime diversity alpha --i-table {table_path} --p-metric shannon --o-alpha-diversity shannon.qza\n",
    "\n",
    "# Visualisation des résultats\n",
    "!qiime diversity alpha-group-significance --i-alpha-diversity shannon.qza --m-metadata-file {metadata_path} --o-visualization shannon_significance.qzv\n"
   ]
  },
  {
   "cell_type": "markdown",
   "id": "5dde529a",
   "metadata": {},
   "source": [
    "## 4. Analyse de la diversité Bêta (PCoA)\n",
    "\n",
    "Cette section est dédiée à l'analyse de la diversité bêta via une Analyse en Coordonnées Principales (PCoA) sur une matrice de distance de Bray-Curtis.\n"
   ]
  },
  {
   "cell_type": "code",
   "execution_count": null,
   "id": "56a7e460",
   "metadata": {},
   "outputs": [],
   "source": [
    "# Calcul de la matrice de distance (Bray-Curtis)\n",
    "!qiime diversity beta --i-table {table_path} --p-metric braycurtis --o-distance-matrix bray_curtis_distance_matrix.qza\n",
    "\n",
    "# Analyse PCoA\n",
    "!qiime diversity pcoa --i-distance-matrix bray_curtis_distance_matrix.qza --o-pcoa pcoa_results.qza\n",
    "\n",
    "# Visualisation avec Emperor\n",
    "!qiime emperor plot --i-pcoa pcoa_results.qza --m-metadata-file {metadata_path} --o-visualization pcoa_emperor.qzv\n"
   ]
  },
  {
   "cell_type": "markdown",
   "id": "aaa14dd9",
   "metadata": {},
   "source": [
    "## 5. Composition Taxonomique\n",
    "\n",
    "Visualisation de la composition taxonomique des échantillons.\n"
   ]
  },
  {
   "cell_type": "code",
   "execution_count": null,
   "id": "274f0286",
   "metadata": {},
   "outputs": [],
   "source": [
    "# Création du barplot taxonomique\n",
    "!qiime taxa barplot --i-table {table_path} --i-taxonomy {taxo_path} --m-metadata-file {metadata_path} --o-visualization taxa_barplot.qzv\n"
   ]
  },
  {
   "cell_type": "markdown",
   "id": "1fc45b34",
   "metadata": {},
   "source": [
    "### Heatmap de la composition taxonomique (par classe)\n"
   ]
  },
  {
   "cell_type": "code",
   "execution_count": null,
   "id": "4e242a99",
   "metadata": {},
   "outputs": [],
   "source": [
    "# Agréger la table au niveau de la classe\n",
    "!qiime taxa collapse --i-table {table_path} --i-taxonomy {taxo_path} --p-level 3 --o-collapsed-table table-l3.qza\n",
    "\n",
    "# Créer le heatmap\n",
    "!qiime feature-table heatmap --i-table table-l3.qza --m-metadata-file {metadata_path} --m-metadata-column body-site --p-normalize --o-visualization heatmap-l3.qzv\n"
   ]
  },
  {
   "cell_type": "markdown",
   "id": "e7aafeab",
   "metadata": {},
   "source": [
    "## 6. Analyse de Redondance basée sur la Distance (db-RDA)\n",
    "\n",
    "Cette analyse permet d'évaluer la relation entre la composition des communautés microbiennes et les variables environnementales numériques.\n"
   ]
  },
  {
   "cell_type": "code",
   "execution_count": null,
   "id": "981ce1fe",
   "metadata": {},
   "outputs": [],
   "source": [
    "# Assurez-vous que votre fichier de métadonnées contient des colonnes numériques.\n",
    "# Par exemple, 'ph', 'temperature', etc.\n",
    "# La commande suivante suppose que 'ph' est une variable dans votre metadata.tsv\n",
    "\n",
    "# Exécution de la db-RDA\n",
    "!qiime diversity adonis --i-distance-matrix bray_curtis_distance_matrix.qza --m-metadata-file {metadata_path} --p-formula \"ph\" --o-visualization adonis_results.qzv\n",
    "\n",
    "# Note : Remplacez \"ph\" par la ou les variables numériques pertinentes de votre fichier de métadonnées.\n",
    "# Pour plusieurs variables, utilisez la syntaxe \"var1+var2+...\"\n"
   ]
  }
 ],
 "metadata": {
  "language_info": {
   "name": "python"
  }
 },
 "nbformat": 4,
 "nbformat_minor": 5
}
